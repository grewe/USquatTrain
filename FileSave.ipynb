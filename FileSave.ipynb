{
  "nbformat": 4,
  "nbformat_minor": 0,
  "metadata": {
    "colab": {
      "name": "FileSave.ipynb",
      "provenance": [],
      "collapsed_sections": [],
      "authorship_tag": "ABX9TyNzgZwCmtjC6vZSfB/HEFMN",
      "include_colab_link": true
    },
    "kernelspec": {
      "name": "python3",
      "display_name": "Python 3"
    }
  },
  "cells": [
    {
      "cell_type": "markdown",
      "metadata": {
        "id": "view-in-github",
        "colab_type": "text"
      },
      "source": [
        "<a href=\"https://colab.research.google.com/github/grewe/USquatTrain/blob/main/FileSave.ipynb\" target=\"_parent\"><img src=\"https://colab.research.google.com/assets/colab-badge.svg\" alt=\"Open In Colab\"/></a>"
      ]
    },
    {
      "cell_type": "code",
      "metadata": {
        "id": "t0qjQfNWBPVm"
      },
      "source": [
        "from google.colab import drive\r\n",
        "drive.mount('/gdrive')"
      ],
      "execution_count": null,
      "outputs": []
    },
    {
      "cell_type": "code",
      "metadata": {
        "id": "-0bO0TFZBQT3"
      },
      "source": [
        "import tensorflow as tf\r\n",
        "import shutil\r\n",
        "import os\r\n",
        "import cv2\r\n",
        "import numpy as np\r\n",
        "import matplotlib.pyplot as plt\r\n",
        "import tqdm\r\n",
        "from sklearn.preprocessing import LabelBinarizer"
      ],
      "execution_count": null,
      "outputs": []
    },
    {
      "cell_type": "code",
      "metadata": {
        "id": "fnpvnF-vBQ6a"
      },
      "source": [
        "#Run this code for Feature Extractor in the Model to save images and Features\r\n",
        "current_path = None\r\n",
        "all_features = []\r\n",
        "all_images =[]\r\n",
        "#%ls {current_path}\r\n",
        "%ls {VIDEOS_PATH}\r\n",
        "\r\n",
        "img_path=BASE_PATH+'/images'\r\n",
        "%ls {img_path}\r\n",
        "feature_path=BASE_PATH+'/features/'\r\n",
        "%ls {feature_path}\r\n",
        "#cycle through the dataset and visit each image, note the tdqm is a progress bar\r\n",
        "#that updates each time a new iteration is called \r\n",
        "#call feature_extraction_model above (Inception v3) for the image to extract the features\r\n",
        "print(dataset)\r\n",
        "i=0\r\n",
        "for img, batch_paths in tqdm.tqdm(dataset):\r\n",
        "    i+=1\r\n",
        "    \r\n",
        "    batch_features = feature_extraction_model(img)\r\n",
        "    #reshape the tensor \r\n",
        "    batch_features = tf.reshape(batch_features, \r\n",
        "                              (batch_features.shape[0], -1))\r\n",
        "    print(img.shape)    \r\n",
        "    #tf.keras.preprocessing.image.save_img(os.path.join(str(i)+'.jpg'), img[0])\r\n",
        "    for features, path in zip(batch_features.numpy(), batch_paths.numpy()):\r\n",
        "        if path != current_path and current_path is not None:\r\n",
        "            ImgFileName= current_path.decode().remove('.MOV')\r\n",
        "            tf.keras.preprocessing.image.save_img(os.path.join(ImgFileName)+'.jpg'), img[0])\r\n",
        "            output_path = current_path.decode().replace('.MOV','.npy')\r\n",
        "            \r\n",
        "            np.save(output_path, all_features)\r\n",
        "            #shutil.copy(current_path, img_path + current_path.split('.jpg'))\r\n",
        "            all_features = []\r\n",
        "            \r\n",
        "        current_path = path\r\n",
        "        all_features.append(features)\r\n",
        "        #all_images.append(img)\r\n",
        "\r\n",
        "print(all_features)\r\n",
        "print(all_images)"
      ],
      "execution_count": null,
      "outputs": []
    }
  ]
}